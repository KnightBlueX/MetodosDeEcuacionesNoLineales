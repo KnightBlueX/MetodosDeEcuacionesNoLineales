{
  "nbformat": 4,
  "nbformat_minor": 0,
  "metadata": {
    "colab": {
      "name": "Método de bisección",
      "provenance": [],
      "collapsed_sections": []
    },
    "kernelspec": {
      "name": "python3",
      "display_name": "Python 3"
    },
    "language_info": {
      "name": "python"
    }
  },
  "cells": [
    {
      "cell_type": "code",
      "metadata": {
        "id": "_v5cq2FCxpDO",
        "colab": {
          "base_uri": "https://localhost:8080/",
          "height": 385
        },
        "outputId": "1d9f1f6b-dd15-4ccc-b39c-c942a8c6e34f"
      },
      "source": [
        "#Algoritmo del método de bisección \n",
        "\n",
        "import numpy as np\n",
        "import matplotlib.pyplot as plt\n",
        "\n",
        "#Función a definir por el usuario\n",
        "def f(x): \n",
        "  return x**3 + 4*x**2 - 10 \n",
        "  #Ecuaciones usadas para comprobar:\n",
        "  #x**3-2*x**2-1   \n",
        "\n",
        "#Ingreso de los datos por el usuario\n",
        "a = int( input(\"Introduzca intervalo de búsqueda a: \") )\n",
        "b = int( input(\"Introduzca el intervalo de búsqueda b: \") )\n",
        "cotaerror = float( input(\"Introduzca la cota de error: \") )\n",
        "i=0\n",
        "\n",
        "#Inicio del proceso\n",
        "while cotaerror>1e-8:\n",
        "  c=(a+b)/2\n",
        "  fa=f(a)\n",
        "  fc=f(c)\n",
        "\n",
        "  if fc==0:\n",
        "    raiz=c\n",
        "    break\n",
        "  \n",
        "  elif fa*fc<0:\n",
        "    b=c\n",
        "  else:\n",
        "    a=c\n",
        "  raiz=c\n",
        "  i+=1\n",
        "  cotaerror=abs(fc)\n",
        "\n",
        "#Salida e impresión del método\n",
        "print(\"Iteración\",i,\". Raíz aproximada\",raiz)\n",
        "\n",
        "#Grafica del método\n",
        "x=np.linspace(-2,4,101)\n",
        "plt.plot(x,f(x))\n",
        "plt.plot(raiz,f(raiz), 'o')\n",
        "plt.xlabel('x')\n",
        "plt.ylabel('y')\n",
        "plt.title('Bisección en f(x)')\n",
        "plt.grid()\n",
        "plt.show\n",
        "\n",
        "\n"
      ],
      "execution_count": 13,
      "outputs": [
        {
          "output_type": "stream",
          "text": [
            "Introduzca intervalo de búsqueda a: 1\n",
            "Introduzca el intervalo de búsqueda b: 2\n",
            "Introduzca la cota de error: 0.0001\n",
            "Iteración 30 . Raíz aproximada 1.365230013616383\n"
          ],
          "name": "stdout"
        },
        {
          "output_type": "execute_result",
          "data": {
            "text/plain": [
              "<function matplotlib.pyplot.show>"
            ]
          },
          "metadata": {
            "tags": []
          },
          "execution_count": 13
        },
        {
          "output_type": "display_data",
          "data": {
            "image/png": "[encoded data removed]",
            "text/plain": [
              "<Figure size 432x288 with 1 Axes>"
            ]
          },
          "metadata": {
            "tags": [],
            "needs_background": "light"
          }
        }
      ]
    }
  ]
}