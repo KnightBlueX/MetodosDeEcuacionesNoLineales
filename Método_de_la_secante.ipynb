{
  "nbformat": 4,
  "nbformat_minor": 0,
  "metadata": {
    "colab": {
      "name": "Método_de_la_secante",
      "provenance": []
    },
    "kernelspec": {
      "name": "python3",
      "display_name": "Python 3"
    },
    "language_info": {
      "name": "python"
    }
  },
  "cells": [
    {
      "cell_type": "code",
      "metadata": {
        "id": "NdEwoH8Xzz0g",
        "colab": {
          "base_uri": "https://localhost:8080/",
          "height": 468
        },
        "outputId": "b3253c01-e376-4746-c121-bb6233b7bbf6"
      },
      "source": [
        "# Algoritmo metodo de la secante \n",
        "\n",
        "\n",
        "import numpy as np\n",
        "\n",
        "def metsecante(fx, xa, cotaerr):\n",
        "    dx = 4*cotaerr\n",
        "    xb = xa + dx\n",
        "    tramo = dx\n",
        "    tabla = []\n",
        "    while (tramo>=cotaerr):\n",
        "        fa = fx(xa)\n",
        "        fb = fx(xb)\n",
        "        xc = xa - fa*(xb-xa)/(fb-fa)\n",
        "        tramo = abs(xc-xa)\n",
        "        \n",
        "        tabla.append([xa,xb,xc,tramo])\n",
        "        xb = xa\n",
        "        xa = xc\n",
        "\n",
        "    tabla = np.array(tabla)\n",
        "    return(tabla)\n",
        "\n",
        "\n",
        "fx = lambda x: x**3 + 4*x**2 - 10\n",
        "\n",
        "a = int( input(\"Introduzca intervalo de búsqueda a: \") )\n",
        "b = int( input(\"Introduzca el intervalo de búsqueda b: \") )\n",
        "xa = float(input(\"Introduzca el valor de xa\"))\n",
        "cotaerro = float( input(\"Introduzca la cota de error: \") )\n",
        "iter = int(input(\"Introduzca el numero de iteraciones\"))\n",
        "\n",
        "\n",
        "tabla = metsecante(fx,xa,cotaerro)\n",
        "n = len(tabla)\n",
        "raiz = tabla[n-1,2]\n",
        "\n",
        "np.set_printoptions(precision=4)\n",
        "print('[xa ,\\t xb , \\t xc , \\t tramo]')\n",
        "for i in range(0,n,1):\n",
        "    print(tabla[i])\n",
        "print('raiz: ', raiz)\n",
        "\n",
        "# Grafica\n",
        "import matplotlib.pyplot as plt\n",
        "\n",
        "xi = np.linspace(a,b,iter+1)\n",
        "fi = fx(xi)\n",
        "dx = (b-xa)/2\n",
        "pendiente = (fx(xa+dx)-fx(xa))/(xa+dx-xa)\n",
        "b0 = fx(xa) - pendiente*xa\n",
        "tangentei = pendiente*xi+b0\n",
        "\n",
        "fxa = fx(xa)\n",
        "xb = xa + dx\n",
        "fxb = fx(xb)\n",
        "\n",
        "plt.plot(xi,fi, label='f(x)')\n",
        "\n",
        "plt.plot(xi,tangentei, label='secante')\n",
        "plt.plot(xa,fx(xa),'go', label='xa')\n",
        "plt.plot(xa+dx,fx(xa+dx),'ro', label='xb')\n",
        "plt.plot((-b0/pendiente),0,'yo', label='xc')\n",
        "\n",
        "plt.plot([xa,xa],[0,fxa],'m')\n",
        "plt.plot([xb,xb],[0,fxb],'m')\n",
        "\n",
        "plt.axhline(0, color='k')\n",
        "plt.legend()\n",
        "plt.grid()\n",
        "plt.show()"
      ],
      "execution_count": 2,
      "outputs": [
        {
          "output_type": "stream",
          "text": [
            "Introduzca intervalo de búsqueda a: 1\n",
            "Introduzca el intervalo de búsqueda b: 2\n",
            "Introduzca el valor de xa1.5\n",
            "Introduzca la cota de error: 0.0001\n",
            "Introduzca el numero de iteraciones100\n",
            "[xa ,\t xb , \t xc , \t tramo]\n",
            "[1.5    1.5004 1.3734 0.1266]\n",
            "[1.3734 1.5    1.3657 0.0076]\n",
            "[1.3657e+00 1.3734e+00 1.3652e+00 5.0803e-04]\n",
            "[1.3652e+00 1.3657e+00 1.3652e+00 2.0251e-06]\n",
            "raiz:  1.3652300139205196\n"
          ],
          "name": "stdout"
        },
        {
          "output_type": "display_data",
          "data": {
            "image/png": "[encoded data removed]",
            "text/plain": [
              "<Figure size 432x288 with 1 Axes>"
            ]
          },
          "metadata": {
            "tags": [],
            "needs_background": "light"
          }
        }
      ]
    }
  ]
}