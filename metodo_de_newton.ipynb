{
  "nbformat": 4,
  "nbformat_minor": 0,
  "metadata": {
    "colab": {
      "name": "metodo de newton.ipynb",
      "provenance": [],
      "collapsed_sections": []
    },
    "kernelspec": {
      "name": "python3",
      "display_name": "Python 3"
    },
    "language_info": {
      "name": "python"
    }
  },
  "cells": [
    {
      "cell_type": "code",
      "metadata": {
        "colab": {
          "base_uri": "https://localhost:8080/",
          "height": 366
        },
        "id": "R5Zs4rakMNt8",
        "outputId": "6c39bb63-6e35-4b25-cfe8-d242863cbfbc"
      },
      "source": [
        "import numpy as np\n",
        "import matplotlib.pyplot as plt\n",
        "\n",
        "x=np.linspace(-2,2,100)\n",
        "plt.plot(x,f(x))\n",
        "plt.plot(x0,f(x0),'or')\n",
        "plt.grid()\n",
        "plt.show\n",
        "\n",
        "def f(x):\n",
        "  return x**3 - np.cos(x)\n",
        "\n",
        "def Df(x):\n",
        "  return 3 * x**2 + np.sin(x)\n",
        "\n",
        "x0=int(input(\"Ingrese el valor inicial: \"))\n",
        "i=1  \n",
        "error = float(input(\"Ingrese el valor de la cota de error: \"))\n",
        "while error > 1e-6:\n",
        "      x1= x0 - f(x0) / Df(x0)\n",
        "      error = abs(x1-x0)\n",
        "      x0 = x1\n",
        "      print(\"interacion\",i,\" raíz aproximada:\",x0)\n",
        "      i=i+1\n",
        "      "
      ],
      "execution_count": null,
      "outputs": [
        {
          "output_type": "stream",
          "text": [
            "Ingrese el valor inicial1\n",
            "Ingrese el valor de la cota de error0.001\n",
            "interacion 1  raíz aproximada: 0.880332899571582\n",
            "interacion 2  raíz aproximada: 0.8656841631760818\n",
            "interacion 3  raíz aproximada: 0.865474075952977\n",
            "interacion 4  raíz aproximada: 0.8654740331016162\n"
          ],
          "name": "stdout"
        },
        {
          "output_type": "display_data",
          "data": {
            "image/png": "[encoded data removed]",
            "text/plain": [
              "<Figure size 432x288 with 1 Axes>"
            ]
          },
          "metadata": {
            "tags": [],
            "needs_background": "light"
          }
        }
      ]
    },
    {
      "cell_type": "code",
      "metadata": {
        "id": "LJ656s9jMgMK"
      },
      "source": [
        ""
      ],
      "execution_count": null,
      "outputs": []
    }
  ]
}